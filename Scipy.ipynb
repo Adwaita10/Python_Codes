{
 "cells": [
  {
   "cell_type": "code",
   "execution_count": null,
   "id": "3e569201",
   "metadata": {},
   "outputs": [],
   "source": [
    "# Resource : https://www.w3schools.com/python/scipy/scipy_constants.php"
   ]
  },
  {
   "cell_type": "code",
   "execution_count": 2,
   "id": "9e4dd539",
   "metadata": {},
   "outputs": [],
   "source": [
    "from scipy import cluster"
   ]
  },
  {
   "cell_type": "code",
   "execution_count": 3,
   "id": "98475dac",
   "metadata": {},
   "outputs": [],
   "source": [
    "from scipy import constants"
   ]
  },
  {
   "cell_type": "code",
   "execution_count": 4,
   "id": "76c038fa",
   "metadata": {},
   "outputs": [
    {
     "name": "stdout",
     "output_type": "stream",
     "text": [
      "0.001\n"
     ]
    }
   ],
   "source": [
    "print(constants.litre)"
   ]
  },
  {
   "cell_type": "code",
   "execution_count": 5,
   "id": "4c3645cf",
   "metadata": {},
   "outputs": [
    {
     "name": "stdout",
     "output_type": "stream",
     "text": [
      "3.141592653589793\n"
     ]
    }
   ],
   "source": [
    "print(constants.pi)"
   ]
  },
  {
   "cell_type": "code",
   "execution_count": 6,
   "id": "dc48820f",
   "metadata": {},
   "outputs": [
    {
     "name": "stdout",
     "output_type": "stream",
     "text": [
      "['Avogadro', 'Boltzmann', 'Btu', 'Btu_IT', 'Btu_th', 'ConstantWarning', 'G', 'Julian_year', 'N_A', 'Planck', 'R', 'Rydberg', 'Stefan_Boltzmann', 'Wien', '__all__', '__builtins__', '__cached__', '__doc__', '__file__', '__loader__', '__name__', '__package__', '__path__', '__spec__', '_obsolete_constants', 'acre', 'alpha', 'angstrom', 'arcmin', 'arcminute', 'arcsec', 'arcsecond', 'astronomical_unit', 'atm', 'atmosphere', 'atomic_mass', 'atto', 'au', 'bar', 'barrel', 'bbl', 'blob', 'c', 'calorie', 'calorie_IT', 'calorie_th', 'carat', 'centi', 'codata', 'constants', 'convert_temperature', 'day', 'deci', 'degree', 'degree_Fahrenheit', 'deka', 'dyn', 'dyne', 'e', 'eV', 'electron_mass', 'electron_volt', 'elementary_charge', 'epsilon_0', 'erg', 'exa', 'exbi', 'femto', 'fermi', 'find', 'fine_structure', 'fluid_ounce', 'fluid_ounce_US', 'fluid_ounce_imp', 'foot', 'g', 'gallon', 'gallon_US', 'gallon_imp', 'gas_constant', 'gibi', 'giga', 'golden', 'golden_ratio', 'grain', 'gram', 'gravitational_constant', 'h', 'hbar', 'hectare', 'hecto', 'horsepower', 'hour', 'hp', 'inch', 'k', 'kgf', 'kibi', 'kilo', 'kilogram_force', 'kmh', 'knot', 'lambda2nu', 'lb', 'lbf', 'light_year', 'liter', 'litre', 'long_ton', 'm_e', 'm_n', 'm_p', 'm_u', 'mach', 'mebi', 'mega', 'metric_ton', 'micro', 'micron', 'mil', 'mile', 'milli', 'minute', 'mmHg', 'mph', 'mu_0', 'nano', 'nautical_mile', 'neutron_mass', 'nu2lambda', 'ounce', 'oz', 'parsec', 'pebi', 'peta', 'physical_constants', 'pi', 'pico', 'point', 'pound', 'pound_force', 'precision', 'proton_mass', 'psi', 'pt', 'short_ton', 'sigma', 'slinch', 'slug', 'speed_of_light', 'speed_of_sound', 'stone', 'survey_foot', 'survey_mile', 'tebi', 'tera', 'test', 'ton_TNT', 'torr', 'troy_ounce', 'troy_pound', 'u', 'unit', 'value', 'week', 'yard', 'year', 'yobi', 'yotta', 'zebi', 'zepto', 'zero_Celsius', 'zetta']\n"
     ]
    }
   ],
   "source": [
    "# A list of all units under the constants module can be seen using the dir() function.\n",
    "\n",
    "print(dir(constants))"
   ]
  },
  {
   "cell_type": "code",
   "execution_count": 8,
   "id": "d9aac111",
   "metadata": {},
   "outputs": [
    {
     "name": "stdout",
     "output_type": "stream",
     "text": [
      "1000.0\n"
     ]
    }
   ],
   "source": [
    "# Metric (SI) Prefixes: Return the specified unit in meter (e.g. centi returns 0.01)\n",
    "\n",
    "print(constants.kilo)\n",
    "\n"
   ]
  },
  {
   "cell_type": "code",
   "execution_count": 10,
   "id": "76efe991",
   "metadata": {},
   "outputs": [
    {
     "name": "stdout",
     "output_type": "stream",
     "text": [
      "1073741824\n",
      "1000.0\n",
      "0.001\n",
      "0.017453292519943295\n",
      "0.5555555555555556\n",
      "745.6998715822701\n",
      "1e-05\n",
      "1e-05\n",
      "4.4482216152605\n",
      "4.4482216152605\n",
      "9.80665\n",
      "9.80665\n"
     ]
    }
   ],
   "source": [
    "# Binary Prefixes: Return the specified unit in bytes (e.g. kibi returns 1024)\n",
    "print(constants.gibi)\n",
    "\n",
    "#Mass: Return the specified unit in kg (e.g. gram returns 0.001)\n",
    "print(constants.metric_ton)\n",
    "print(constants.gram)\n",
    "\n",
    "# Angle: Return the specified unit in radians (e.g. degree returns 0.017453292519943295)\n",
    "print(constants.degree)\n",
    "\n",
    "# Time - Seconds\n",
    "# Length - Meters\n",
    "# Pressure - Pascals\n",
    "# Area - Square meters\n",
    "# Volume - cubic meters (e.g. liter returns 0.001)\n",
    "# Speed - meters per second (e.g. speed_of_sound returns 340.5)\n",
    "\n",
    "# Temp -  Kelvin (e.g. zero_Celsius returns 273.15)\n",
    "print(constants.degree_Fahrenheit) \n",
    "\n",
    "# Energy - joules (e.g. calorie returns 4.184)\n",
    "# Power - (e.g. horsepower returns 745.6998715822701)\n",
    "print(constants.hp)\n",
    "\n",
    "# Force -  newton (e.g. kilogram_force returns 9.80665)\n",
    "\n",
    "print(constants.dyn)             #1e-05\n",
    "print(constants.dyne)            #1e-05\n",
    "print(constants.lbf)             #4.4482216152605\n",
    "print(constants.pound_force)     #4.4482216152605\n",
    "print(constants.kgf)             #9.80665\n",
    "print(constants.kilogram_force)  #9.80665\n"
   ]
  },
  {
   "cell_type": "code",
   "execution_count": 11,
   "id": "185e09d5",
   "metadata": {},
   "outputs": [
    {
     "name": "stdout",
     "output_type": "stream",
     "text": [
      "[-0.73908513]\n",
      "    fjac: array([[-1.]])\n",
      "     fun: array([0.])\n",
      " message: 'The solution converged.'\n",
      "    nfev: 9\n",
      "     qtf: array([-2.66786593e-13])\n",
      "       r: array([-1.67361202])\n",
      "  status: 1\n",
      " success: True\n",
      "       x: array([-0.73908513])\n"
     ]
    }
   ],
   "source": [
    "# Optimizers - Set of procedures defined in SciPy that either find the minimum value of function,or the root of an equation.\n",
    "# Essentially, all of the algorithms in Machine Learning are nothing more than a complex equation\n",
    "# that needs to be minimized with the help of given data.\n",
    "# Roots of an Equation - NumPy is capable of finding roots for polynomials and linear equations,\n",
    "# but it can not find roots for non linear equations, like this one:x + cos(x)\n",
    "\n",
    "#-----------------------------------------------------------------------------------------------------------------------------\n",
    "\n",
    "# optimize.root function -> 2 arguments required\n",
    "# fun - a function representing an equation.\n",
    "# x0 - an initial guess for the root.\n",
    "\n",
    "# Question -> Find root of the equation x + cos(x):\n",
    "from scipy.optimize import root\n",
    "from math import cos \n",
    "\n",
    "def eqn(x):\n",
    "    return x + cos(x)\n",
    "\n",
    "myroot = root(eqn,0)\n",
    "print(myroot.x)\n",
    "print(myroot)\n",
    "\n"
   ]
  },
  {
   "cell_type": "code",
   "execution_count": 12,
   "id": "b4a7fe1d",
   "metadata": {},
   "outputs": [
    {
     "name": "stdout",
     "output_type": "stream",
     "text": [
      "      fun: 1.75\n",
      " hess_inv: array([[0.50000001]])\n",
      "      jac: array([0.])\n",
      "  message: 'Optimization terminated successfully.'\n",
      "     nfev: 8\n",
      "      nit: 2\n",
      "     njev: 4\n",
      "   status: 0\n",
      "  success: True\n",
      "        x: array([-0.50000001])\n"
     ]
    }
   ],
   "source": [
    "# A function, in this context, represents a curve, curves have high points and low points.\n",
    "# High points - maxima.\n",
    "# Low points - minima.\n",
    "# The highest point in the whole curve - global maxima; rest - local maxima.\n",
    "# The lowest point in whole curve is called global minima; rest - local minima.\n",
    "\n",
    "#-------------------------------------------------------------------------------------------------------------------------------\n",
    "\n",
    "# The minimize() function takes the following arguments:\n",
    "# fun - a function representing an equation.\n",
    "# x0 - an initial guess for the root.\n",
    "# method - name of the method to use. Legal values:'CG''BFGS''Newton-CG''L-BFGS-B''TNC''COBYLA''SLSQP'\n",
    "#callback - function called after each iteration of optimization.\n",
    "# options - a dictionary defining extra params: { \"disp\": boolean - print detailed description \"gtol\": number - the tolerance of the error}\n",
    "\n",
    "# Example -> Minimize the function x^2 + x + 2 with BFGS:\n",
    "\n",
    "from scipy.optimize import minimize\n",
    "\n",
    "def eqn(x):\n",
    "  return x**2 + x + 2\n",
    "\n",
    "mymin = minimize(eqn, 0, method='BFGS')\n",
    "\n",
    "print(mymin)"
   ]
  },
  {
   "cell_type": "code",
   "execution_count": 14,
   "id": "ca665b09",
   "metadata": {},
   "outputs": [
    {
     "name": "stdout",
     "output_type": "stream",
     "text": [
      "     fun: array([1.75])\n",
      "     jac: array([2.22044605e-08])\n",
      " message: 'Local minimum reached (|pg| ~= 0)'\n",
      "    nfev: 8\n",
      "     nit: 1\n",
      "  status: 0\n",
      " success: True\n",
      "       x: array([-0.5])\n"
     ]
    }
   ],
   "source": [
    "from scipy.optimize import minimize\n",
    "\n",
    "def eqn(x):\n",
    "    return x**2 + x + 2\n",
    "mymin = minimize(eqn, 0, method='TNC')\n",
    "print(mymin)"
   ]
  },
  {
   "cell_type": "code",
   "execution_count": 15,
   "id": "96c44fd5",
   "metadata": {},
   "outputs": [
    {
     "name": "stdout",
     "output_type": "stream",
     "text": [
      "[5.2 5.4 5.6 5.8 6.  6.2 6.4 6.6 6.8]\n"
     ]
    }
   ],
   "source": [
    "# Interpolation \n",
    "\n",
    "from scipy.interpolate import interp1d\n",
    "import numpy as np\n",
    "\n",
    "xs = np.arange(10)\n",
    "ys = 2*xs + 1\n",
    "\n",
    "interp_func = interp1d(xs, ys)\n",
    "\n",
    "newarr = interp_func(np.arange(2.1, 3, 0.1))\n",
    "\n",
    "print(newarr)"
   ]
  },
  {
   "cell_type": "code",
   "execution_count": 16,
   "id": "9f39a787",
   "metadata": {},
   "outputs": [
    {
     "name": "stdout",
     "output_type": "stream",
     "text": [
      "{'__header__': b'MATLAB 5.0 MAT-file Platform: nt, Created on: Mon Dec 13 06:23:06 2021', '__version__': '1.0', '__globals__': [], 'vec': array([[0, 1, 2, 3, 4, 5, 6, 7, 8, 9]])}\n"
     ]
    }
   ],
   "source": [
    "# Matlab Default bool - False\n",
    "\n",
    "# Export - savemat Import - loadmat\n",
    "from scipy import io\n",
    "import numpy as np\n",
    "\n",
    "arr = np.array([0, 1, 2, 3, 4, 5, 6, 7, 8, 9,])\n",
    "\n",
    "# Export:\n",
    "io.savemat('arr.mat', {\"vec\": arr})\n",
    "\n",
    "# Import:\n",
    "mydata = io.loadmat('arr.mat')\n",
    "\n",
    "print(mydata)\n"
   ]
  },
  {
   "cell_type": "code",
   "execution_count": 17,
   "id": "fccd52d8",
   "metadata": {},
   "outputs": [
    {
     "name": "stdout",
     "output_type": "stream",
     "text": [
      "[[0 1 2 3 4 5 6 7 8 9]]\n"
     ]
    }
   ],
   "source": [
    "# \"vec\" to display only the array from the matlab data\n",
    "print(mydata['vec'])"
   ]
  },
  {
   "cell_type": "code",
   "execution_count": 18,
   "id": "a58163b5",
   "metadata": {},
   "outputs": [
    {
     "name": "stdout",
     "output_type": "stream",
     "text": [
      "[0 1 2 3 4 5 6 7 8 9]\n"
     ]
    }
   ],
   "source": [
    "# array originally was 1D, but on extraction it has increased one dimension.\n",
    "\n",
    "#In order to resolve this we can pass an additional argument squeeze_me=True:\n",
    "# Import:\n",
    "mydata = io.loadmat('arr.mat', squeeze_me=True)\n",
    "\n",
    "print(mydata['vec'])"
   ]
  },
  {
   "cell_type": "code",
   "execution_count": null,
   "id": "1ee69c38",
   "metadata": {},
   "outputs": [],
   "source": []
  }
 ],
 "metadata": {
  "kernelspec": {
   "display_name": "Python 3 (ipykernel)",
   "language": "python",
   "name": "python3"
  },
  "language_info": {
   "codemirror_mode": {
    "name": "ipython",
    "version": 3
   },
   "file_extension": ".py",
   "mimetype": "text/x-python",
   "name": "python",
   "nbconvert_exporter": "python",
   "pygments_lexer": "ipython3",
   "version": "3.9.7"
  }
 },
 "nbformat": 4,
 "nbformat_minor": 5
}
